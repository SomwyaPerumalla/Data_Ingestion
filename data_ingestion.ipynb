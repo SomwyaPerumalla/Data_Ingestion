{
 "cells": [
  {
   "cell_type": "code",
   "execution_count": 1,
   "id": "6d55c34e",
   "metadata": {},
   "outputs": [],
   "source": [
    "import pandas as pd"
   ]
  },
  {
   "cell_type": "code",
   "execution_count": 2,
   "id": "69361286",
   "metadata": {},
   "outputs": [
    {
     "name": "stderr",
     "output_type": "stream",
     "text": [
      "<timed exec>:1: DtypeWarning: Columns (17,18,20,21,22,23,29,30,31,32,34,36,38,39) have mixed types. Specify dtype option on import or set low_memory=False.\n"
     ]
    },
    {
     "name": "stdout",
     "output_type": "stream",
     "text": [
      "Wall time: 3min 9s\n"
     ]
    }
   ],
   "source": [
    "%%time\n",
    "df=pd.read_csv(\"Big_data.csv\")"
   ]
  },
  {
   "cell_type": "code",
   "execution_count": 3,
   "id": "88513eae",
   "metadata": {},
   "outputs": [
    {
     "data": {
      "text/html": [
       "<div>\n",
       "<style scoped>\n",
       "    .dataframe tbody tr th:only-of-type {\n",
       "        vertical-align: middle;\n",
       "    }\n",
       "\n",
       "    .dataframe tbody tr th {\n",
       "        vertical-align: top;\n",
       "    }\n",
       "\n",
       "    .dataframe thead th {\n",
       "        text-align: right;\n",
       "    }\n",
       "</style>\n",
       "<table border=\"1\" class=\"dataframe\">\n",
       "  <thead>\n",
       "    <tr style=\"text-align: right;\">\n",
       "      <th></th>\n",
       "      <th>Summons Number</th>\n",
       "      <th>Plate ID</th>\n",
       "      <th>Registration State</th>\n",
       "      <th>Plate Type</th>\n",
       "      <th>Issue Date</th>\n",
       "      <th>Violation Code</th>\n",
       "      <th>Vehicle Body Type</th>\n",
       "      <th>Vehicle Make</th>\n",
       "      <th>Issuing Agency</th>\n",
       "      <th>Street Code1</th>\n",
       "      <th>...</th>\n",
       "      <th>Hydrant Violation</th>\n",
       "      <th>Double Parking Violation</th>\n",
       "      <th>Latitude</th>\n",
       "      <th>Longitude</th>\n",
       "      <th>Community Board</th>\n",
       "      <th>Community Council</th>\n",
       "      <th>Census Tract</th>\n",
       "      <th>BIN</th>\n",
       "      <th>BBL</th>\n",
       "      <th>NTA</th>\n",
       "    </tr>\n",
       "  </thead>\n",
       "  <tbody>\n",
       "    <tr>\n",
       "      <th>0</th>\n",
       "      <td>1363745270</td>\n",
       "      <td>GGY6450</td>\n",
       "      <td>99</td>\n",
       "      <td>PAS</td>\n",
       "      <td>07/09/2015</td>\n",
       "      <td>46</td>\n",
       "      <td>SDN</td>\n",
       "      <td>HONDA</td>\n",
       "      <td>P</td>\n",
       "      <td>0</td>\n",
       "      <td>...</td>\n",
       "      <td>NaN</td>\n",
       "      <td>NaN</td>\n",
       "      <td>NaN</td>\n",
       "      <td>NaN</td>\n",
       "      <td>NaN</td>\n",
       "      <td>NaN</td>\n",
       "      <td>NaN</td>\n",
       "      <td>NaN</td>\n",
       "      <td>NaN</td>\n",
       "      <td>NaN</td>\n",
       "    </tr>\n",
       "    <tr>\n",
       "      <th>1</th>\n",
       "      <td>1363745293</td>\n",
       "      <td>KXD355</td>\n",
       "      <td>SC</td>\n",
       "      <td>PAS</td>\n",
       "      <td>07/09/2015</td>\n",
       "      <td>21</td>\n",
       "      <td>SUBN</td>\n",
       "      <td>CHEVR</td>\n",
       "      <td>P</td>\n",
       "      <td>55730</td>\n",
       "      <td>...</td>\n",
       "      <td>NaN</td>\n",
       "      <td>NaN</td>\n",
       "      <td>NaN</td>\n",
       "      <td>NaN</td>\n",
       "      <td>NaN</td>\n",
       "      <td>NaN</td>\n",
       "      <td>NaN</td>\n",
       "      <td>NaN</td>\n",
       "      <td>NaN</td>\n",
       "      <td>NaN</td>\n",
       "    </tr>\n",
       "    <tr>\n",
       "      <th>2</th>\n",
       "      <td>1363745438</td>\n",
       "      <td>JCK7576</td>\n",
       "      <td>PA</td>\n",
       "      <td>PAS</td>\n",
       "      <td>07/09/2015</td>\n",
       "      <td>21</td>\n",
       "      <td>SDN</td>\n",
       "      <td>ME/BE</td>\n",
       "      <td>P</td>\n",
       "      <td>42730</td>\n",
       "      <td>...</td>\n",
       "      <td>NaN</td>\n",
       "      <td>NaN</td>\n",
       "      <td>NaN</td>\n",
       "      <td>NaN</td>\n",
       "      <td>NaN</td>\n",
       "      <td>NaN</td>\n",
       "      <td>NaN</td>\n",
       "      <td>NaN</td>\n",
       "      <td>NaN</td>\n",
       "      <td>NaN</td>\n",
       "    </tr>\n",
       "    <tr>\n",
       "      <th>3</th>\n",
       "      <td>1363745475</td>\n",
       "      <td>GYK7658</td>\n",
       "      <td>NY</td>\n",
       "      <td>OMS</td>\n",
       "      <td>07/09/2015</td>\n",
       "      <td>21</td>\n",
       "      <td>SUBN</td>\n",
       "      <td>NISSA</td>\n",
       "      <td>P</td>\n",
       "      <td>58130</td>\n",
       "      <td>...</td>\n",
       "      <td>NaN</td>\n",
       "      <td>NaN</td>\n",
       "      <td>NaN</td>\n",
       "      <td>NaN</td>\n",
       "      <td>NaN</td>\n",
       "      <td>NaN</td>\n",
       "      <td>NaN</td>\n",
       "      <td>NaN</td>\n",
       "      <td>NaN</td>\n",
       "      <td>NaN</td>\n",
       "    </tr>\n",
       "    <tr>\n",
       "      <th>4</th>\n",
       "      <td>1363745487</td>\n",
       "      <td>GMT8141</td>\n",
       "      <td>NY</td>\n",
       "      <td>PAS</td>\n",
       "      <td>07/09/2015</td>\n",
       "      <td>21</td>\n",
       "      <td>P-U</td>\n",
       "      <td>LINCO</td>\n",
       "      <td>P</td>\n",
       "      <td>58130</td>\n",
       "      <td>...</td>\n",
       "      <td>NaN</td>\n",
       "      <td>NaN</td>\n",
       "      <td>NaN</td>\n",
       "      <td>NaN</td>\n",
       "      <td>NaN</td>\n",
       "      <td>NaN</td>\n",
       "      <td>NaN</td>\n",
       "      <td>NaN</td>\n",
       "      <td>NaN</td>\n",
       "      <td>NaN</td>\n",
       "    </tr>\n",
       "  </tbody>\n",
       "</table>\n",
       "<p>5 rows × 51 columns</p>\n",
       "</div>"
      ],
      "text/plain": [
       "   Summons Number Plate ID Registration State Plate Type  Issue Date  \\\n",
       "0      1363745270  GGY6450                 99        PAS  07/09/2015   \n",
       "1      1363745293   KXD355                 SC        PAS  07/09/2015   \n",
       "2      1363745438  JCK7576                 PA        PAS  07/09/2015   \n",
       "3      1363745475  GYK7658                 NY        OMS  07/09/2015   \n",
       "4      1363745487  GMT8141                 NY        PAS  07/09/2015   \n",
       "\n",
       "   Violation Code Vehicle Body Type Vehicle Make Issuing Agency  Street Code1  \\\n",
       "0              46               SDN        HONDA              P             0   \n",
       "1              21              SUBN        CHEVR              P         55730   \n",
       "2              21               SDN        ME/BE              P         42730   \n",
       "3              21              SUBN        NISSA              P         58130   \n",
       "4              21               P-U        LINCO              P         58130   \n",
       "\n",
       "   ...  Hydrant Violation  Double Parking Violation  Latitude  Longitude  \\\n",
       "0  ...                NaN                       NaN       NaN        NaN   \n",
       "1  ...                NaN                       NaN       NaN        NaN   \n",
       "2  ...                NaN                       NaN       NaN        NaN   \n",
       "3  ...                NaN                       NaN       NaN        NaN   \n",
       "4  ...                NaN                       NaN       NaN        NaN   \n",
       "\n",
       "   Community Board  Community Council   Census Tract BIN BBL NTA  \n",
       "0              NaN                 NaN           NaN NaN NaN NaN  \n",
       "1              NaN                 NaN           NaN NaN NaN NaN  \n",
       "2              NaN                 NaN           NaN NaN NaN NaN  \n",
       "3              NaN                 NaN           NaN NaN NaN NaN  \n",
       "4              NaN                 NaN           NaN NaN NaN NaN  \n",
       "\n",
       "[5 rows x 51 columns]"
      ]
     },
     "execution_count": 3,
     "metadata": {},
     "output_type": "execute_result"
    }
   ],
   "source": [
    "df.head()\n"
   ]
  },
  {
   "cell_type": "code",
   "execution_count": 4,
   "id": "85255372",
   "metadata": {},
   "outputs": [
    {
     "data": {
      "text/plain": [
       "(10626899, 51)"
      ]
     },
     "execution_count": 4,
     "metadata": {},
     "output_type": "execute_result"
    }
   ],
   "source": [
    "df.shape"
   ]
  },
  {
   "cell_type": "code",
   "execution_count": 5,
   "id": "4644028e",
   "metadata": {},
   "outputs": [
    {
     "name": "stdout",
     "output_type": "stream",
     "text": [
      "Requirement already satisfied: modin in c:\\users\\tirum\\anaconda3\\lib\\site-packages (0.20.1)\n",
      "Requirement already satisfied: fsspec in c:\\users\\tirum\\anaconda3\\lib\\site-packages (from modin) (2021.10.1)\n",
      "Requirement already satisfied: packaging in c:\\users\\tirum\\anaconda3\\lib\\site-packages (from modin) (23.1)\n",
      "Requirement already satisfied: psutil in c:\\users\\tirum\\anaconda3\\lib\\site-packages (from modin) (5.8.0)\n",
      "Requirement already satisfied: pandas==1.5.3 in c:\\users\\tirum\\anaconda3\\lib\\site-packages (from modin) (1.5.3)\n",
      "Requirement already satisfied: numpy>=1.18.5 in c:\\users\\tirum\\anaconda3\\lib\\site-packages (from modin) (1.20.3)\n",
      "Requirement already satisfied: pytz>=2020.1 in c:\\users\\tirum\\anaconda3\\lib\\site-packages (from pandas==1.5.3->modin) (2021.3)\n",
      "Requirement already satisfied: python-dateutil>=2.8.1 in c:\\users\\tirum\\anaconda3\\lib\\site-packages (from pandas==1.5.3->modin) (2.8.2)\n",
      "Requirement already satisfied: six>=1.5 in c:\\users\\tirum\\anaconda3\\lib\\site-packages (from python-dateutil>=2.8.1->pandas==1.5.3->modin) (1.16.0)\n",
      "Requirement already satisfied: dask in c:\\users\\tirum\\anaconda3\\lib\\site-packages (2021.10.0)\n",
      "Requirement already satisfied: cloudpickle>=1.1.1 in c:\\users\\tirum\\anaconda3\\lib\\site-packages (from dask) (2.0.0)\n",
      "Requirement already satisfied: fsspec>=0.6.0 in c:\\users\\tirum\\anaconda3\\lib\\site-packages (from dask) (2021.10.1)\n",
      "Requirement already satisfied: packaging>=20.0 in c:\\users\\tirum\\anaconda3\\lib\\site-packages (from dask) (23.1)\n",
      "Requirement already satisfied: partd>=0.3.10 in c:\\users\\tirum\\anaconda3\\lib\\site-packages (from dask) (1.2.0)\n",
      "Requirement already satisfied: pyyaml in c:\\users\\tirum\\anaconda3\\lib\\site-packages (from dask) (6.0)\n",
      "Requirement already satisfied: toolz>=0.8.2 in c:\\users\\tirum\\anaconda3\\lib\\site-packages (from dask) (0.11.1)\n",
      "Requirement already satisfied: locket in c:\\users\\tirum\\anaconda3\\lib\\site-packages\\locket-0.2.1-py3.9.egg (from partd>=0.3.10->dask) (0.2.1)\n",
      "Requirement already satisfied: ray in c:\\users\\tirum\\anaconda3\\lib\\site-packages (2.4.0)\n",
      "Requirement already satisfied: requests in c:\\users\\tirum\\anaconda3\\lib\\site-packages (from ray) (2.26.0)\n",
      "Requirement already satisfied: aiosignal in c:\\users\\tirum\\anaconda3\\lib\\site-packages (from ray) (1.3.1)\n",
      "Requirement already satisfied: pyyaml in c:\\users\\tirum\\anaconda3\\lib\\site-packages (from ray) (6.0)\n",
      "Requirement already satisfied: virtualenv<20.21.1,>=20.0.24 in c:\\users\\tirum\\anaconda3\\lib\\site-packages (from ray) (20.21.0)\n",
      "Requirement already satisfied: jsonschema in c:\\users\\tirum\\anaconda3\\lib\\site-packages (from ray) (3.2.0)\n",
      "Requirement already satisfied: grpcio<=1.51.3,>=1.32.0 in c:\\users\\tirum\\anaconda3\\lib\\site-packages (from ray) (1.46.0)\n",
      "Requirement already satisfied: protobuf!=3.19.5,>=3.15.3 in c:\\users\\tirum\\anaconda3\\lib\\site-packages (from ray) (3.20.1)\n",
      "Requirement already satisfied: msgpack<2.0.0,>=1.0.0 in c:\\users\\tirum\\anaconda3\\lib\\site-packages (from ray) (1.0.2)\n",
      "Requirement already satisfied: numpy>=1.19.3 in c:\\users\\tirum\\anaconda3\\lib\\site-packages (from ray) (1.20.3)\n",
      "Requirement already satisfied: attrs in c:\\users\\tirum\\anaconda3\\lib\\site-packages (from ray) (21.2.0)\n",
      "Requirement already satisfied: filelock in c:\\users\\tirum\\anaconda3\\lib\\site-packages (from ray) (3.12.0)\n",
      "Requirement already satisfied: frozenlist in c:\\users\\tirum\\anaconda3\\lib\\site-packages (from ray) (1.3.3)\n",
      "Requirement already satisfied: click>=7.0 in c:\\users\\tirum\\anaconda3\\lib\\site-packages (from ray) (8.0.3)\n",
      "Requirement already satisfied: colorama in c:\\users\\tirum\\anaconda3\\lib\\site-packages (from click>=7.0->ray) (0.4.4)\n",
      "Requirement already satisfied: six>=1.5.2 in c:\\users\\tirum\\anaconda3\\lib\\site-packages (from grpcio<=1.51.3,>=1.32.0->ray) (1.16.0)\n",
      "Requirement already satisfied: distlib<1,>=0.3.6 in c:\\users\\tirum\\anaconda3\\lib\\site-packages (from virtualenv<20.21.1,>=20.0.24->ray) (0.3.6)\n",
      "Requirement already satisfied: platformdirs<4,>=2.4 in c:\\users\\tirum\\anaconda3\\lib\\site-packages (from virtualenv<20.21.1,>=20.0.24->ray) (3.5.0)\n",
      "Requirement already satisfied: pyrsistent>=0.14.0 in c:\\users\\tirum\\anaconda3\\lib\\site-packages (from jsonschema->ray) (0.18.0)\n",
      "Requirement already satisfied: setuptools in c:\\users\\tirum\\anaconda3\\lib\\site-packages (from jsonschema->ray) (58.0.4)\n",
      "Requirement already satisfied: idna<4,>=2.5 in c:\\users\\tirum\\anaconda3\\lib\\site-packages (from requests->ray) (3.2)\n",
      "Requirement already satisfied: urllib3<1.27,>=1.21.1 in c:\\users\\tirum\\anaconda3\\lib\\site-packages (from requests->ray) (1.26.7)\n",
      "Requirement already satisfied: charset-normalizer~=2.0.0 in c:\\users\\tirum\\anaconda3\\lib\\site-packages (from requests->ray) (2.0.4)\n",
      "Requirement already satisfied: certifi>=2017.4.17 in c:\\users\\tirum\\anaconda3\\lib\\site-packages (from requests->ray) (2021.10.8)\n"
     ]
    }
   ],
   "source": [
    "!pip install modin\n",
    "!pip install dask\n",
    "!pip install --upgrade ray"
   ]
  },
  {
   "cell_type": "code",
   "execution_count": 6,
   "id": "c6cf4f45",
   "metadata": {},
   "outputs": [],
   "source": [
    "import modin.pandas as mpd\n",
    "import dask.dataframe as dd\n",
    "#import ray\n",
    "#import ray.dataframe as rr\n",
    "#ray.init()"
   ]
  },
  {
   "cell_type": "code",
   "execution_count": 7,
   "id": "c9803ce0",
   "metadata": {},
   "outputs": [
    {
     "name": "stdout",
     "output_type": "stream",
     "text": [
      "Wall time: 17.3 ms\n"
     ]
    }
   ],
   "source": [
    "%%time\n",
    "df1=dd.read_csv(\"Big_data.csv\")"
   ]
  },
  {
   "cell_type": "code",
   "execution_count": 18,
   "id": "250ebf1e",
   "metadata": {},
   "outputs": [],
   "source": [
    "import yaml\n",
    "import re"
   ]
  },
  {
   "cell_type": "code",
   "execution_count": 20,
   "id": "5c164f74",
   "metadata": {},
   "outputs": [],
   "source": [
    "separator = '|'"
   ]
  },
  {
   "cell_type": "code",
   "execution_count": 21,
   "id": "55a68d94",
   "metadata": {},
   "outputs": [],
   "source": [
    "df.columns = [re.sub(r'\\W+', '_', col.strip()) for col in df.columns]"
   ]
  },
  {
   "cell_type": "code",
   "execution_count": 30,
   "id": "db1fb180",
   "metadata": {},
   "outputs": [
    {
     "name": "stdout",
     "output_type": "stream",
     "text": [
      "Index(['Summons_Number', 'Plate_ID', 'Registration_State', 'Plate_Type',\n",
      "       'Issue_Date', 'Violation_Code', 'Vehicle_Body_Type', 'Vehicle_Make',\n",
      "       'Issuing_Agency', 'Street_Code1', 'Street_Code2', 'Street_Code3',\n",
      "       'Vehicle_Expiration_Date', 'Violation_Location', 'Violation_Precinct',\n",
      "       'Issuer_Precinct', 'Issuer_Code', 'Issuer_Command', 'Issuer_Squad',\n",
      "       'Violation_Time', 'Time_First_Observed', 'Violation_County',\n",
      "       'Violation_In_Front_Of_Or_Opposite', 'House_Number', 'Street_Name',\n",
      "       'Intersecting_Street', 'Date_First_Observed', 'Law_Section',\n",
      "       'Sub_Division', 'Violation_Legal_Code', 'Days_Parking_In_Effect',\n",
      "       'From_Hours_In_Effect', 'To_Hours_In_Effect', 'Vehicle_Color',\n",
      "       'Unregistered_Vehicle_', 'Vehicle_Year', 'Meter_Number',\n",
      "       'Feet_From_Curb', 'Violation_Post_Code', 'Violation_Description',\n",
      "       'No_Standing_or_Stopping_Violation', 'Hydrant_Violation',\n",
      "       'Double_Parking_Violation', 'Latitude', 'Longitude', 'Community_Board',\n",
      "       'Community_Council', 'Census_Tract', 'BIN', 'BBL', 'NTA'],\n",
      "      dtype='object')\n"
     ]
    }
   ],
   "source": [
    "print(df.columns)"
   ]
  },
  {
   "cell_type": "code",
   "execution_count": 32,
   "id": "e39c672b",
   "metadata": {},
   "outputs": [
    {
     "name": "stdout",
     "output_type": "stream",
     "text": [
      "columns:\n",
      "- Summons_Number\n",
      "- Plate_ID\n",
      "- Registration_State\n",
      "- Plate_Type\n",
      "- Issue_Date\n",
      "- Violation_Code\n",
      "- Vehicle_Body_Type\n",
      "- Vehicle_Make\n",
      "- Issuing_Agency\n",
      "- Street_Code1\n",
      "- Street_Code2\n",
      "- Street_Code3\n",
      "- Vehicle_Expiration_Date\n",
      "- Violation_Location\n",
      "- Violation_Precinct\n",
      "- Issuer_Precinct\n",
      "- Issuer_Code\n",
      "- Issuer_Command\n",
      "- Issuer_Squad\n",
      "- Violation_Time\n",
      "- Time_First_Observed\n",
      "- Violation_County\n",
      "- Violation_In_Front_Of_Or_Opposite\n",
      "- House_Number\n",
      "- Street_Name\n",
      "- Intersecting_Street\n",
      "- Date_First_Observed\n",
      "- Law_Section\n",
      "- Sub_Division\n",
      "- Violation_Legal_Code\n",
      "- Days_Parking_In_Effect\n",
      "- From_Hours_In_Effect\n",
      "- To_Hours_In_Effect\n",
      "- Vehicle_Color\n",
      "- Unregistered_Vehicle_\n",
      "- Vehicle_Year\n",
      "- Meter_Number\n",
      "- Feet_From_Curb\n",
      "- Violation_Post_Code\n",
      "- Violation_Description\n",
      "- No_Standing_or_Stopping_Violation\n",
      "- Hydrant_Violation\n",
      "- Double_Parking_Violation\n",
      "- Latitude\n",
      "- Longitude\n",
      "- Community_Board\n",
      "- Community_Council\n",
      "- Census_Tract\n",
      "- BIN\n",
      "- BBL\n",
      "- NTA\n",
      "\n"
     ]
    }
   ],
   "source": [
    "output_yaml_file = 'schema.yaml'\n",
    "separator = '|'\n",
    "\n",
    "columns = list(df.columns)\n",
    "\n",
    "\n",
    "with open(output_yaml_file, 'w') as f:\n",
    "    yaml.dump({'columns': columns}, f)\n",
    "\n",
    "\n",
    "with open(output_yaml_file, 'r') as f:\n",
    "    print(f.read())"
   ]
  },
  {
   "cell_type": "code",
   "execution_count": 33,
   "id": "06e463ee",
   "metadata": {},
   "outputs": [
    {
     "name": "stdout",
     "output_type": "stream",
     "text": [
      "Column validation successful\n"
     ]
    }
   ],
   "source": [
    "input_yaml_file = 'schema.yaml'\n",
    "\n",
    "\n",
    "with open(input_yaml_file, 'r') as stream:\n",
    "    try:\n",
    "        yaml_data = yaml.safe_load(stream)\n",
    "    except yaml.YAMLError as exc:\n",
    "        print(exc)\n",
    "\n",
    "expected_columns = yaml_data['columns']\n",
    "\n",
    "if len(df.columns) != len(expected_columns):\n",
    "    print('Error: Number of columns does not match the YAML file')\n",
    "else:\n",
    "    for col in df.columns:\n",
    "        if col not in expected_columns:\n",
    "            print(f'Error: Column {col} is not in the YAML file')\n",
    "            break\n",
    "    else:\n",
    "        print('Column validation successful')\n",
    "\n"
   ]
  },
  {
   "cell_type": "code",
   "execution_count": 34,
   "id": "7adcfba2",
   "metadata": {},
   "outputs": [
    {
     "name": "stdout",
     "output_type": "stream",
     "text": [
      "Total number of rows: 10626899\n",
      "Total number of columns: 51\n",
      "File size: 402569203 bytes\n"
     ]
    }
   ],
   "source": [
    "import gzip\n",
    "import os\n",
    "\n",
    "output_file = 'output_file.txt.gz'\n",
    "\n",
    "with gzip.open(output_file, 'wt', encoding='utf-8') as f:\n",
    "    df.to_csv(f, sep=separator, index=False)\n",
    "\n",
    "\n",
    "file_size = os.path.getsize(output_file)\n",
    "\n",
    "print(f'Total number of rows: {len(df)}')\n",
    "print(f'Total number of columns: {len(df.columns)}')\n",
    "print(f'File size: {file_size} bytes')"
   ]
  },
  {
   "cell_type": "code",
   "execution_count": null,
   "id": "c97cd22a",
   "metadata": {},
   "outputs": [],
   "source": []
  }
 ],
 "metadata": {
  "kernelspec": {
   "display_name": "Python 3 (ipykernel)",
   "language": "python",
   "name": "python3"
  },
  "language_info": {
   "codemirror_mode": {
    "name": "ipython",
    "version": 3
   },
   "file_extension": ".py",
   "mimetype": "text/x-python",
   "name": "python",
   "nbconvert_exporter": "python",
   "pygments_lexer": "ipython3",
   "version": "3.9.7"
  }
 },
 "nbformat": 4,
 "nbformat_minor": 5
}
